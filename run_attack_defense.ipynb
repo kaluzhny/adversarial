{
 "cells": [
  {
   "cell_type": "code",
   "execution_count": 1,
   "metadata": {
    "collapsed": true
   },
   "outputs": [],
   "source": [
    "from os.path import abspath, join\n",
    "\n",
    "from run_attacks_and_defenses import read_submission, load_defense_output\n",
    "from run_attacks_and_defenses import DatasetMetadata\n",
    "\n",
    "\n",
    "use_gpu = False\n",
    "epsilon = 16\n",
    "\n",
    "images_path = abspath('dataset/images')\n",
    "meta_path = abspath('dataset/dev_dataset.csv')\n",
    "attack_path = abspath('sample_attacks/fgsm')\n",
    "attack_output_path = abspath('attack_output')\n",
    "\n",
    "defense_path = abspath('sample_defenses/adv_inception_v3')\n",
    "defense_output_path = abspath('defense_output')"
   ]
  },
  {
   "cell_type": "code",
   "execution_count": 2,
   "metadata": {},
   "outputs": [
    {
     "name": "stdout",
     "output_type": "stream",
     "text": [
      "Running attack  fgsm\n",
      "docker run -v /Users/dmitryka/nips/adversarial/dataset/images:/input_images -v /Users/dmitryka/nips/adversarial/attack_output:/output_images -v /Users/dmitryka/nips/adversarial/sample_attacks/fgsm:/code -w /code goodfellow/competition:cpu ./run_attack.sh /input_images /output_images 16\n"
     ]
    }
   ],
   "source": [
    "attack = read_submission(attack_path, use_gpu)\n",
    "attack.run(images_path, attack_output_path, epsilon)"
   ]
  },
  {
   "cell_type": "code",
   "execution_count": 3,
   "metadata": {},
   "outputs": [
    {
     "name": "stdout",
     "output_type": "stream",
     "text": [
      "Running defense  adv_inception_v3\n",
      "docker run -v /Users/dmitryka/nips/adversarial/attack_output:/input_images -v /Users/dmitryka/nips/adversarial/defense_output:/output_data -v /Users/dmitryka/nips/adversarial/sample_defenses/adv_inception_v3:/code -w /code gcr.io/tensorflow/tensorflow:1.1.0 ./run_defense.sh /input_images /output_data/result.csv\n"
     ]
    }
   ],
   "source": [
    "defense = read_submission(defense_path, use_gpu)\n",
    "defense.run(attack_output_path, defense_output_path)"
   ]
  },
  {
   "cell_type": "code",
   "execution_count": 4,
   "metadata": {},
   "outputs": [
    {
     "data": {
      "text/plain": [
       "812"
      ]
     },
     "execution_count": 4,
     "metadata": {},
     "output_type": "execute_result"
    }
   ],
   "source": [
    "dataset_meta = DatasetMetadata(meta_path)\n",
    "defense_result = load_defense_output(join(defense_output_path, 'result.csv'))\n",
    "\n",
    "accuracy = 0\n",
    "for image_id, predicted_label in defense_result.items():\n",
    "    true_label = dataset_meta.get_true_label(image_id)\n",
    "    if true_label == predicted_label:\n",
    "        accuracy += 1\n",
    "accuracy"
   ]
  }
 ],
 "metadata": {
  "kernelspec": {
   "display_name": "Python 2",
   "language": "python",
   "name": "python2"
  },
  "language_info": {
   "codemirror_mode": {
    "name": "ipython",
    "version": 2
   },
   "file_extension": ".py",
   "mimetype": "text/x-python",
   "name": "python",
   "nbconvert_exporter": "python",
   "pygments_lexer": "ipython2",
   "version": "2.7.13"
  }
 },
 "nbformat": 4,
 "nbformat_minor": 2
}
