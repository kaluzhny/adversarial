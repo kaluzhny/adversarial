{
 "cells": [
  {
   "cell_type": "code",
   "execution_count": 1,
   "metadata": {
    "collapsed": true
   },
   "outputs": [],
   "source": [
    "import os\n",
    "\n",
    "import numpy as np\n",
    "from PIL import Image\n",
    "\n",
    "from cleverhans.attacks import FastGradientMethod\n",
    "\n",
    "import tensorflow as tf\n",
    "from tensorflow.contrib.slim.nets import inception\n",
    "\n",
    "slim = tf.contrib.slim"
   ]
  },
  {
   "cell_type": "code",
   "execution_count": 2,
   "metadata": {
    "collapsed": true
   },
   "outputs": [],
   "source": [
    "tf.flags.DEFINE_string(\n",
    "    'master', '', 'The address of the TensorFlow master to use.')\n",
    "\n",
    "tf.flags.DEFINE_string(\n",
    "    'checkpoint_path', '', 'Path to checkpoint for inception network.')\n",
    "\n",
    "tf.flags.DEFINE_string(\n",
    "    'input_dir', '', 'Input directory with images.')\n",
    "\n",
    "tf.flags.DEFINE_string(\n",
    "    'output_dir', '', 'Output directory with images.')\n",
    "\n",
    "tf.flags.DEFINE_float(\n",
    "    'max_epsilon', 16.0, 'Maximum size of adversarial perturbation.')\n",
    "\n",
    "tf.flags.DEFINE_integer(\n",
    "    'image_width', 299, 'Width of each input images.')\n",
    "\n",
    "tf.flags.DEFINE_integer(\n",
    "    'image_height', 299, 'Height of each input images.')\n",
    "\n",
    "tf.flags.DEFINE_integer(\n",
    "    'batch_size', 16, 'How many images process at one time.')\n",
    "\n",
    "FLAGS = tf.flags.FLAGS"
   ]
  },
  {
   "cell_type": "code",
   "execution_count": 3,
   "metadata": {
    "collapsed": true
   },
   "outputs": [],
   "source": [
    "class InceptionModel(object):\n",
    "  \"\"\"Model class for CleverHans library.\"\"\"\n",
    "\n",
    "  def __init__(self, num_classes):\n",
    "    self.num_classes = num_classes\n",
    "    self.built = False\n",
    "\n",
    "  def __call__(self, x_input):\n",
    "    \"\"\"Constructs model and return probabilities for given input.\"\"\"\n",
    "    reuse = True if self.built else None\n",
    "    with slim.arg_scope(inception.inception_v3_arg_scope()):\n",
    "      _, end_points = inception.inception_v3(\n",
    "          x_input, num_classes=self.num_classes, is_training=False,\n",
    "          reuse=reuse)\n",
    "    self.built = True\n",
    "    output = end_points['Predictions']\n",
    "    # Strip off the extra reshape op at the output\n",
    "    probs = output.op.inputs[0]\n",
    "    return probs"
   ]
  },
  {
   "cell_type": "code",
   "execution_count": 4,
   "metadata": {
    "collapsed": true
   },
   "outputs": [],
   "source": [
    "eps = 2.0 * FLAGS.max_epsilon / 255.0\n",
    "batch_shape = [FLAGS.batch_size, FLAGS.image_height, FLAGS.image_width, 3]\n",
    "num_classes = 1001\n",
    "tf.logging.set_verbosity(tf.logging.INFO)"
   ]
  },
  {
   "cell_type": "code",
   "execution_count": 5,
   "metadata": {},
   "outputs": [
    {
     "name": "stderr",
     "output_type": "stream",
     "text": [
      "cleverhans/attacks.py:36: UserWarning: CleverHans support for supplying a callable instead of an instance of the cleverhans.model.Model class is deprecated and will be dropped on 2018-01-11.\n",
      "  warnings.warn(\"CleverHans support for supplying a callable\"\n"
     ]
    }
   ],
   "source": [
    "model = InceptionModel(num_classes)\n",
    "fgsm = FastGradientMethod(model)"
   ]
  },
  {
   "cell_type": "code",
   "execution_count": 11,
   "metadata": {},
   "outputs": [],
   "source": [
    "with tf.Graph().as_default():\n",
    "    x_input = tf.placeholder(tf.float32, shape=batch_shape)\n",
    "    model = inception.inception_v3(x_input)"
   ]
  },
  {
   "cell_type": "code",
   "execution_count": 12,
   "metadata": {},
   "outputs": [
    {
     "data": {
      "text/plain": [
       "(<tf.Tensor 'InceptionV3/Logits/SpatialSqueeze:0' shape=(16, 1000) dtype=float32>,\n",
       " {'AuxLogits': <tf.Tensor 'InceptionV3/AuxLogits/SpatialSqueeze:0' shape=(16, 1000) dtype=float32>,\n",
       "  'Conv2d_1a_3x3': <tf.Tensor 'InceptionV3/InceptionV3/Conv2d_1a_3x3/Relu:0' shape=(16, 149, 149, 32) dtype=float32>,\n",
       "  'Conv2d_2a_3x3': <tf.Tensor 'InceptionV3/InceptionV3/Conv2d_2a_3x3/Relu:0' shape=(16, 147, 147, 32) dtype=float32>,\n",
       "  'Conv2d_2b_3x3': <tf.Tensor 'InceptionV3/InceptionV3/Conv2d_2b_3x3/Relu:0' shape=(16, 147, 147, 64) dtype=float32>,\n",
       "  'Conv2d_3b_1x1': <tf.Tensor 'InceptionV3/InceptionV3/Conv2d_3b_1x1/Relu:0' shape=(16, 73, 73, 80) dtype=float32>,\n",
       "  'Conv2d_4a_3x3': <tf.Tensor 'InceptionV3/InceptionV3/Conv2d_4a_3x3/Relu:0' shape=(16, 71, 71, 192) dtype=float32>,\n",
       "  'Logits': <tf.Tensor 'InceptionV3/Logits/SpatialSqueeze:0' shape=(16, 1000) dtype=float32>,\n",
       "  'MaxPool_3a_3x3': <tf.Tensor 'InceptionV3/InceptionV3/MaxPool_3a_3x3/MaxPool:0' shape=(16, 73, 73, 64) dtype=float32>,\n",
       "  'MaxPool_5a_3x3': <tf.Tensor 'InceptionV3/InceptionV3/MaxPool_5a_3x3/MaxPool:0' shape=(16, 35, 35, 192) dtype=float32>,\n",
       "  'Mixed_5b': <tf.Tensor 'InceptionV3/InceptionV3/Mixed_5b/concat:0' shape=(16, 35, 35, 256) dtype=float32>,\n",
       "  'Mixed_5c': <tf.Tensor 'InceptionV3/InceptionV3/Mixed_5c/concat:0' shape=(16, 35, 35, 288) dtype=float32>,\n",
       "  'Mixed_5d': <tf.Tensor 'InceptionV3/InceptionV3/Mixed_5d/concat:0' shape=(16, 35, 35, 288) dtype=float32>,\n",
       "  'Mixed_6a': <tf.Tensor 'InceptionV3/InceptionV3/Mixed_6a/concat:0' shape=(16, 17, 17, 768) dtype=float32>,\n",
       "  'Mixed_6b': <tf.Tensor 'InceptionV3/InceptionV3/Mixed_6b/concat:0' shape=(16, 17, 17, 768) dtype=float32>,\n",
       "  'Mixed_6c': <tf.Tensor 'InceptionV3/InceptionV3/Mixed_6c/concat:0' shape=(16, 17, 17, 768) dtype=float32>,\n",
       "  'Mixed_6d': <tf.Tensor 'InceptionV3/InceptionV3/Mixed_6d/concat:0' shape=(16, 17, 17, 768) dtype=float32>,\n",
       "  'Mixed_6e': <tf.Tensor 'InceptionV3/InceptionV3/Mixed_6e/concat:0' shape=(16, 17, 17, 768) dtype=float32>,\n",
       "  'Mixed_7a': <tf.Tensor 'InceptionV3/InceptionV3/Mixed_7a/concat:0' shape=(16, 8, 8, 1280) dtype=float32>,\n",
       "  'Mixed_7b': <tf.Tensor 'InceptionV3/InceptionV3/Mixed_7b/concat:0' shape=(16, 8, 8, 2048) dtype=float32>,\n",
       "  'Mixed_7c': <tf.Tensor 'InceptionV3/InceptionV3/Mixed_7c/concat:0' shape=(16, 8, 8, 2048) dtype=float32>,\n",
       "  'PreLogits': <tf.Tensor 'InceptionV3/Logits/Dropout_1b/dropout/mul:0' shape=(16, 1, 1, 2048) dtype=float32>,\n",
       "  'Predictions': <tf.Tensor 'InceptionV3/Predictions/Reshape_1:0' shape=(16, 1000) dtype=float32>})"
      ]
     },
     "execution_count": 12,
     "metadata": {},
     "output_type": "execute_result"
    }
   ],
   "source": [
    "model"
   ]
  }
 ],
 "metadata": {
  "kernelspec": {
   "display_name": "Python 2",
   "language": "python",
   "name": "python2"
  },
  "language_info": {
   "codemirror_mode": {
    "name": "ipython",
    "version": 2
   },
   "file_extension": ".py",
   "mimetype": "text/x-python",
   "name": "python",
   "nbconvert_exporter": "python",
   "pygments_lexer": "ipython2",
   "version": "2.7.13"
  }
 },
 "nbformat": 4,
 "nbformat_minor": 2
}
